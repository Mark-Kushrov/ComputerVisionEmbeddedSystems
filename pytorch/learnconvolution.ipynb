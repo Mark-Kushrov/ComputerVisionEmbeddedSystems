{
  "nbformat": 4,
  "nbformat_minor": 0,
  "metadata": {
    "colab": {
      "name": "learnconvolution.ipynb",
      "provenance": [],
      "collapsed_sections": []
    },
    "kernelspec": {
      "name": "python3",
      "display_name": "Python 3"
    },
    "language_info": {
      "name": "python"
    }
  },
  "cells": [
    {
      "cell_type": "code",
      "metadata": {
        "colab": {
          "base_uri": "https://localhost:8080/"
        },
        "id": "8aw-W65nXuat",
        "outputId": "418a3940-67aa-4d69-a54b-1b9d89978d2f"
      },
      "source": [
        "import torch\n",
        "import torch.nn as nn\n",
        "conv2d = nn.Conv2d(1, 1, kernel_size=(1, 2), bias=False)\n",
        "print (conv2d)\n",
        "print(conv2d.state_dict())   "
      ],
      "execution_count": 5,
      "outputs": [
        {
          "output_type": "stream",
          "name": "stdout",
          "text": [
            "Conv2d(1, 1, kernel_size=(1, 2), stride=(1, 1), bias=False)\n",
            "OrderedDict([('weight', tensor([[[[0.2426, 0.5420]]]]))])\n"
          ]
        }
      ]
    },
    {
      "cell_type": "code",
      "metadata": {
        "id": "iaFYPKxcYtVi"
      },
      "source": [
        "def corr2d(X, K): \n",
        "    \"\"\"Compute 2D cross-correlation.\"\"\"\n",
        "    h, w = K.shape\n",
        "    Y = torch.zeros((X.shape[0] - h + 1, X.shape[1] - w + 1))\n",
        "    for i in range(Y.shape[0]):\n",
        "        for j in range(Y.shape[1]):\n",
        "            Y[i, j] = (X[i:i + h, j:j + w] * K).sum()\n",
        "    return Y"
      ],
      "execution_count": 6,
      "outputs": []
    },
    {
      "cell_type": "code",
      "metadata": {
        "colab": {
          "base_uri": "https://localhost:8080/"
        },
        "id": "_4o6lvueYX_r",
        "outputId": "461805e4-9125-4c66-cad5-3c567e680153"
      },
      "source": [
        "X = torch.ones((6, 8))\n",
        "X[:, 2:6] = 0\n",
        "K = torch.tensor([[1.0, -1.0]])\n",
        "Y = corr2d(X, K)\n",
        "print(X)\n",
        "print(K)\n",
        "print(Y)"
      ],
      "execution_count": 7,
      "outputs": [
        {
          "output_type": "stream",
          "name": "stdout",
          "text": [
            "tensor([[1., 1., 0., 0., 0., 0., 1., 1.],\n",
            "        [1., 1., 0., 0., 0., 0., 1., 1.],\n",
            "        [1., 1., 0., 0., 0., 0., 1., 1.],\n",
            "        [1., 1., 0., 0., 0., 0., 1., 1.],\n",
            "        [1., 1., 0., 0., 0., 0., 1., 1.],\n",
            "        [1., 1., 0., 0., 0., 0., 1., 1.]])\n",
            "tensor([[ 1., -1.]])\n",
            "tensor([[ 0.,  1.,  0.,  0.,  0., -1.,  0.],\n",
            "        [ 0.,  1.,  0.,  0.,  0., -1.,  0.],\n",
            "        [ 0.,  1.,  0.,  0.,  0., -1.,  0.],\n",
            "        [ 0.,  1.,  0.,  0.,  0., -1.,  0.],\n",
            "        [ 0.,  1.,  0.,  0.,  0., -1.,  0.],\n",
            "        [ 0.,  1.,  0.,  0.,  0., -1.,  0.]])\n"
          ]
        }
      ]
    },
    {
      "cell_type": "code",
      "metadata": {
        "colab": {
          "base_uri": "https://localhost:8080/"
        },
        "id": "J9mzE2nSYOnE",
        "outputId": "57dd4eca-ab8c-49c3-bd69-28ae6c831ed4"
      },
      "source": [
        "X = X.reshape((1, 1, 6, 8))\n",
        "Y = Y.reshape((1, 1, 6, 7))\n",
        "print (X)\n",
        "print (Y)\n",
        "lr = 3e-2  # Learning rate\n",
        "\n",
        "for i in range(20):\n",
        "    Y_hat = conv2d(X)\n",
        "    l = (Y_hat - Y)**2\n",
        "    conv2d.zero_grad()\n",
        "    l.sum().backward()\n",
        "    # Update the kernel\n",
        "    conv2d.weight.data[:] -= lr * conv2d.weight.grad\n",
        "    if (i + 1) % 2 == 0:\n",
        "        print(f'batch {i + 1}, loss {l.sum():.3f}')\n",
        "        print(conv2d.state_dict())        "
      ],
      "execution_count": 8,
      "outputs": [
        {
          "output_type": "stream",
          "name": "stdout",
          "text": [
            "tensor([[[[1., 1., 0., 0., 0., 0., 1., 1.],\n",
            "          [1., 1., 0., 0., 0., 0., 1., 1.],\n",
            "          [1., 1., 0., 0., 0., 0., 1., 1.],\n",
            "          [1., 1., 0., 0., 0., 0., 1., 1.],\n",
            "          [1., 1., 0., 0., 0., 0., 1., 1.],\n",
            "          [1., 1., 0., 0., 0., 0., 1., 1.]]]])\n",
            "tensor([[[[ 0.,  1.,  0.,  0.,  0., -1.,  0.],\n",
            "          [ 0.,  1.,  0.,  0.,  0., -1.,  0.],\n",
            "          [ 0.,  1.,  0.,  0.,  0., -1.,  0.],\n",
            "          [ 0.,  1.,  0.,  0.,  0., -1.,  0.],\n",
            "          [ 0.,  1.,  0.,  0.,  0., -1.,  0.],\n",
            "          [ 0.,  1.,  0.,  0.,  0., -1.,  0.]]]])\n",
            "batch 2, loss 12.407\n",
            "OrderedDict([('weight', tensor([[[[ 0.7801, -0.2780]]]]))])\n",
            "batch 4, loss 3.511\n",
            "OrderedDict([('weight', tensor([[[[ 0.9678, -0.6464]]]]))])\n",
            "batch 6, loss 1.174\n",
            "OrderedDict([('weight', tensor([[[[ 1.0238, -0.8182]]]]))])\n",
            "batch 8, loss 0.437\n",
            "OrderedDict([('weight', tensor([[[[ 1.0335, -0.9018]]]]))])\n",
            "batch 10, loss 0.171\n",
            "OrderedDict([('weight', tensor([[[[ 1.0289, -0.9446]]]]))])\n",
            "batch 12, loss 0.069\n",
            "OrderedDict([('weight', tensor([[[[ 1.0215, -0.9676]]]]))])\n",
            "batch 14, loss 0.028\n",
            "OrderedDict([('weight', tensor([[[[ 1.0150, -0.9805]]]]))])\n",
            "batch 16, loss 0.011\n",
            "OrderedDict([('weight', tensor([[[[ 1.0101, -0.9880]]]]))])\n",
            "batch 18, loss 0.005\n",
            "OrderedDict([('weight', tensor([[[[ 1.0067, -0.9926]]]]))])\n",
            "batch 20, loss 0.002\n",
            "OrderedDict([('weight', tensor([[[[ 1.0044, -0.9953]]]]))])\n"
          ]
        }
      ]
    }
  ]
}