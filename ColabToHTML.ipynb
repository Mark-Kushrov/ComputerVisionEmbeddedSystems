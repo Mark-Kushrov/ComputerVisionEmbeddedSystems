{
  "nbformat": 4,
  "nbformat_minor": 0,
  "metadata": {
    "colab": {
      "name": "ECE 595 Uploader.ipynb",
      "provenance": [],
      "collapsed_sections": [],
      "machine_shape": "hm"
    },
    "kernelspec": {
      "display_name": "Python 3",
      "language": "python",
      "name": "python3"
    },
    "language_info": {
      "codemirror_mode": {
        "name": "ipython",
        "version": 3
      },
      "file_extension": ".py",
      "mimetype": "text/x-python",
      "name": "python",
      "nbconvert_exporter": "python",
      "pygments_lexer": "ipython3",
      "version": "3.7.3"
    }
  },
  "cells": [
    {
      "cell_type": "markdown",
      "metadata": {
        "id": "Lo68A2ltMkJZ"
      },
      "source": [
        "#ECE 595: Assignment Uploader\n"
      ]
    },
    {
      "cell_type": "markdown",
      "metadata": {
        "id": "UeF5TawzD6HI"
      },
      "source": [
        "# Mount your drive so Colab has access to the location of your notebook"
      ]
    },
    {
      "cell_type": "code",
      "metadata": {
        "id": "_LNR5ihZCVV4",
        "colab": {
          "base_uri": "https://localhost:8080/"
        },
        "outputId": "9e38bc23-c183-4cbb-d3c8-bfa351967865"
      },
      "source": [
        "from google.colab import drive\n",
        "drive.mount('/content/drive')"
      ],
      "execution_count": null,
      "outputs": [
        {
          "output_type": "stream",
          "name": "stdout",
          "text": [
            "Mounted at /content/drive\n"
          ]
        }
      ]
    },
    {
      "cell_type": "markdown",
      "metadata": {
        "id": "aEcdd-9ZD96z"
      },
      "source": [
        "# Change the `your_ipynb_file_dir` to the exact path of your jupyter notebook."
      ]
    },
    {
      "cell_type": "code",
      "metadata": {
        "id": "Dfqg8VMOCXWp",
        "colab": {
          "base_uri": "https://localhost:8080/"
        },
        "outputId": "b9669f6b-f2ce-468d-e2db-adf27d9bca7a"
      },
      "source": [
        "def preprocess(dir):\n",
        "    # To deal with the error when there is [] in the path\n",
        "    dir.replace('[','[[]')\n",
        "    dir.replace(']','[]]')\n",
        "    return dir\n",
        "\n",
        "########################        YOUR CODE        ##########################\n",
        "### Note that your Google Drive files are prefixed by /content/drive/My Drive/ usually. You should also have a Colab Notebooks folder - this is most likely where your script will be.\n",
        "your_ipynb_file_dir = '/content/drive/My Drive/Colab Notebooks/Assignment_07_Exercise.ipynb' # Example: '/content/drive/MyDrive/ECE595/Homework_1.ipynb'\n",
        "########################      END YOUR CODE      ##########################\n",
        "!jupyter nbconvert --to html \"{preprocess(your_ipynb_file_dir)}\""
      ],
      "execution_count": null,
      "outputs": [
        {
          "output_type": "stream",
          "name": "stdout",
          "text": [
            "[NbConvertApp] Converting notebook /content/drive/My Drive/Colab Notebooks/Assignment_07_Exercise.ipynb to html\n",
            "[NbConvertApp] Writing 2490418 bytes to /content/drive/My Drive/Colab Notebooks/Assignment_07_Exercise.html\n"
          ]
        }
      ]
    },
    {
      "cell_type": "markdown",
      "metadata": {
        "id": "MbNbUihJETjx"
      },
      "source": [
        "# There should be a html file generated in the same directory as your ipynb notebook. Download and then open that html file using a browser then to **File -> Print -> Print to PDF**"
      ]
    }
  ]
}